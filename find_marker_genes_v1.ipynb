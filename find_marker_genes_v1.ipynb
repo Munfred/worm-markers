{
 "cells": [
  {
   "cell_type": "markdown",
   "metadata": {
    "colab_type": "text",
    "id": "-kflZ39BHOkD"
   },
   "source": [
    "# Looking for neuron marker candidates for ASG and ASH\n",
    "\n",
    "On Cao and Taylor C. elegans data using single-cell Variational Inference (scVI)\n"
   ]
  },
  {
   "cell_type": "code",
   "execution_count": null,
   "metadata": {
    "colab": {
     "base_uri": "https://localhost:8080/",
     "height": 34
    },
    "colab_type": "code",
    "id": "K-2Kt6eX-NA3",
    "outputId": "f55fe4ae-3b9b-4bf5-bcd6-cd6dd925a28f"
   },
   "outputs": [],
   "source": [
    "import scvi\n",
    "scvi.__version__"
   ]
  },
  {
   "cell_type": "code",
   "execution_count": null,
   "metadata": {
    "colab": {},
    "colab_type": "code",
    "id": "AQbYC1KVHOkF"
   },
   "outputs": [],
   "source": [
    "%matplotlib inline\n",
    "%config InlineBackend.figure_format = 'retina'\n",
    "# Control warnings\n",
    "import warnings; warnings.simplefilter('ignore')\n",
    "\n",
    "import os\n",
    "import numpy as np\n",
    "import pandas as pd\n",
    "\n",
    "import matplotlib.pyplot as plt\n",
    "from scvi.dataset import GeneExpressionDataset\n",
    "from scvi.models import VAE\n",
    "from scvi.inference import UnsupervisedTrainer\n",
    "import torch\n",
    "import anndata\n",
    "from tqdm import tqdm\n",
    "\n",
    "\n",
    "import plotly.express as px\n",
    "import plotly.graph_objects as go\n",
    "from IPython.display import Image"
   ]
  },
  {
   "cell_type": "code",
   "execution_count": null,
   "metadata": {
    "colab": {
     "base_uri": "https://localhost:8080/",
     "height": 338
    },
    "colab_type": "code",
    "id": "_eeMJnBBHOkJ",
    "outputId": "664b579e-9af4-4a8e-8e87-f2e47f903774"
   },
   "outputs": [],
   "source": [
    "## Change the path where the models will be saved \n",
    "save_path = \"./\"\n",
    "\n",
    "if os.path.isfile('wormcells-data-2020-03-30.h5ad'):\n",
    "    print (\"Found the data file! No need to download.\")\n",
    "else:\n",
    "    print (\"Downloading data...\")\n",
    "    ! wget https://github.com/Munfred/wormcells-site/releases/download/Packer2019Taylor2019Cao2019_wrangle2/wormcells-data-2020-03-30.h5ad\n"
   ]
  },
  {
   "cell_type": "code",
   "execution_count": null,
   "metadata": {
    "colab": {},
    "colab_type": "code",
    "id": "U_GTdS3OHOkN"
   },
   "outputs": [],
   "source": [
    "adata = anndata.read('wormcells-data-2020-03-30.h5ad')\n",
    "adata = adata[adata.obs.study != 'packer'].copy()\n",
    "adata"
   ]
  },
  {
   "cell_type": "code",
   "execution_count": null,
   "metadata": {},
   "outputs": [],
   "source": [
    "gene_dataset = scvi.dataset.AnnDatasetFromAnnData(adata,\n",
    "                                    ctype_label=adata.obs['cell_type'].cat,\n",
    "                                    batch_label=adata.obs['experiment'].cat\n",
    "                                  )\n",
    "# gene_dataset.filter_genes_by_count(min_count = 1, per_batch=False)\n",
    "# sel_genes = gene_dataset.gene_names\n",
    "gene_dataset"
   ]
  },
  {
   "cell_type": "markdown",
   "metadata": {
    "colab_type": "text",
    "id": "SC6C1aquHOkk"
   },
   "source": [
    "## Define and train the model"
   ]
  },
  {
   "cell_type": "markdown",
   "metadata": {
    "colab_type": "text",
    "id": "eFwnkR14HOkp"
   },
   "source": [
    "We now create the model and the trainer object. We train the model and output model likelihood every epoch. In order to evaluate the likelihood on a test set, we split the datasets (the current code can also so train/validation/test).\n",
    "\n",
    "If a pre-trained model already exist in the save_path then load the same model rather than re-training it. This is particularly useful for large datasets."
   ]
  },
  {
   "cell_type": "code",
   "execution_count": null,
   "metadata": {
    "colab": {},
    "colab_type": "code",
    "id": "6VGMd4pfHOkp"
   },
   "outputs": [],
   "source": [
    "# for this dataset 5 epochs is sufficient \n",
    "n_epochs = 10\n",
    "lr = 1e-3\n",
    "use_cuda = False # we are loading a CPU trained model so this should be false\n",
    "\n",
    "# set the VAE to perform batch correction\n",
    "vae = VAE(gene_dataset.nb_genes, n_batch=gene_dataset.n_batches)\n",
    "\n",
    "trainer = UnsupervisedTrainer(\n",
    "    vae,\n",
    "    gene_dataset,\n",
    "    train_size=0.75, # number between 0 and 1, default 0.8\n",
    "    use_cuda=use_cuda,\n",
    "    frequency=1,\n",
    ")"
   ]
  },
  {
   "cell_type": "code",
   "execution_count": null,
   "metadata": {
    "colab": {
     "base_uri": "https://localhost:8080/",
     "height": 52
    },
    "colab_type": "code",
    "id": "lcOREzO1HOku",
    "outputId": "2cf2f5bb-a709-4035-ec99-760fc4f3dbfc"
   },
   "outputs": [],
   "source": [
    "# check if a previously trained model already exists, if yes load it\n",
    "vae_file_name = 'CT_vae_cpu1.pkl'\n",
    "\n",
    "\n",
    "full_file_save_path = os.path.join(save_path, vae_file_name)\n",
    "\n",
    "if os.path.isfile(full_file_save_path):\n",
    "    trainer.model.load_state_dict(torch.load(full_file_save_path))\n",
    "    trainer.model.eval()\n",
    "else:\n",
    "    trainer.train(n_epochs=n_epochs, lr=lr)\n",
    "    torch.save(trainer.model.state_dict(), full_file_save_path)"
   ]
  },
  {
   "cell_type": "code",
   "execution_count": null,
   "metadata": {
    "colab": {},
    "colab_type": "code",
    "id": "Lp_iCGdfHOk0"
   },
   "outputs": [],
   "source": [
    "train_test_results = pd.DataFrame(trainer.history).rename(columns={'elbo_train_set':'Train', 'elbo_test_set':'Test'})\n",
    "\n",
    "train_test_results"
   ]
  },
  {
   "cell_type": "raw",
   "metadata": {
    "colab": {},
    "colab_type": "code",
    "id": "rcZ3OVFzHOk3"
   },
   "source": [
    "ax = train_test_results.plot()\n",
    "ax.set_xlabel(\"Epoch\")\n",
    "ax.set_ylabel(\"Error\")\n",
    "plt.show()"
   ]
  },
  {
   "cell_type": "markdown",
   "metadata": {
    "colab_type": "text",
    "id": "lsJzdOyvHOk6"
   },
   "source": [
    "\n",
    "\n",
    "## Obtaining the posterior object and sample latent space\n",
    "\n",
    "The posterior object contains a model and a gene_dataset, as well as additional arguments that for Pytorch's `DataLoader`. It also comes with many methods or utilities querying the model, such as differential expression, imputation and differential analyisis.\n",
    "\n",
    "\n",
    "To get an ordered output result, we might use `.sequential` posterior's method which return another instance of posterior (with shallow copy of all its object references), but where the iteration is in the same ordered as its  indices attribute."
   ]
  },
  {
   "cell_type": "code",
   "execution_count": null,
   "metadata": {
    "colab": {
     "base_uri": "https://localhost:8080/",
     "height": 34
    },
    "colab_type": "code",
    "id": "URsjPJxCHOk9",
    "outputId": "a29b7890-c100-4412-f877-a71b72779527"
   },
   "outputs": [],
   "source": [
    "# scvi tutorial latent space code\n",
    "full = trainer.create_posterior(trainer.model, gene_dataset, indices=np.arange(len(gene_dataset)))\n",
    "latent, batch_indices, labels = full.sequential().get_latent()\n",
    "batch_indices = batch_indices.ravel()\n",
    "latent.shape"
   ]
  },
  {
   "cell_type": "markdown",
   "metadata": {
    "colab_type": "text",
    "id": "L5W-6dvsHOlU"
   },
   "source": [
    "\n",
    "\n",
    "### Selecting cells to compare\n",
    "\n",
    "Let's look at cells with validated marker genes\n",
    "\n",
    "The marker gene table is taken from:\n",
    "```\n",
    "Ramiro Lorenzo, Michiho Onizuka, Matthieu Defrance, Patrick Laurent \n",
    "Combining single-cell RNA-sequencing with a molecular atlas unveils new markers for Caenorhabditis elegans neuron classes\n",
    "Nucleic Acid Research 2020\n",
    "```\n",
    "http://doi.org/10.1093/nar/gkaa486 \n"
   ]
  },
  {
   "cell_type": "code",
   "execution_count": null,
   "metadata": {},
   "outputs": [],
   "source": [
    "if os.path.isfile('lorenzo_markers_descriptions.csv'):\n",
    "    print (\"Found the data file! No need to download.\")\n",
    "else:\n",
    "    print (\"Downloading marker gene data...\")\n",
    "    ! wget https://github.com/Munfred/worm-markers/releases/download/CT_vae_cpu1/lorenzo_markers_descriptions.csv\n",
    "\n",
    "lorenzo_markers=pd.read_csv('lorenzo_markers_descriptions.csv', index_col=0)\n",
    "display(lorenzo_markers.head(15))\n"
   ]
  },
  {
   "cell_type": "code",
   "execution_count": null,
   "metadata": {},
   "outputs": [],
   "source": [
    "counter = 0\n",
    "neurons_with_markers = []\n",
    "for neuron in lorenzo_markers.index.unique():\n",
    "    \n",
    "    if neuron in adata.obs['cell_type'].unique():\n",
    "        counter +=1\n",
    "        neurons_with_markers.append(neuron)\n",
    "\n",
    "print('In the single cell data we have', counter, 'neurons with known markers:')\n",
    "print(neurons_with_markers)"
   ]
  },
  {
   "cell_type": "markdown",
   "metadata": {},
   "source": [
    "# Perform differential expression between each neuron type for which there are markers and all other cells\n",
    "We plot the bayes factor vs the scVI scale1, which is a value for the expression of the gene (the frequency with which transcripts of that gene are seen in the data)\n",
    "\n",
    "High bayes factor => evidence for DE in the tissue of interest\n",
    "\n",
    "We color the known markers for that neuron, the ones for other neurons, and some common genes for reference\n",
    "\n",
    "We do this for all 2 neurons with several markers as an example. "
   ]
  },
  {
   "cell_type": "code",
   "execution_count": null,
   "metadata": {},
   "outputs": [],
   "source": [
    "# a dictionary to hold the differential expression results dataframes\n",
    "dedfs={}\n",
    "for cell_type_1 in ['ASK', 'ASG']: \n",
    "# you can change the neuron list to plot other cells, for example:\n",
    "# for cell_type_1 in ['ASK', 'ASJ','AWB','AWC_OFF','AWC_ON']:\n",
    "    cell_type_2 = 'not ' + cell_type_1\n",
    "    cell_idx1 = (adata.obs['cell_type'] == cell_type_1)\n",
    "    ncells1=sum(cell_idx1)\n",
    "    print(ncells1, 'cells of type', cell_type_1)\n",
    "    cell_idx2 = ~adata.obs['cell_type'].str.contains(cell_type_1)\n",
    "    ncells2=sum(cell_idx2)\n",
    "    print(ncells2, 'cells of type', cell_type_2)\n",
    "    if ncells1==0:\n",
    "        print('No cells available in data...skipping...')\n",
    "        continue\n",
    "\n",
    "\n",
    "    genedesc = pd.read_csv('celegans_gene_descriptions.csv', index_col=0)\n",
    "    genemaps = pd.read_csv('worm_gene_name_id.csv', index_col=1)\n",
    "\n",
    "    n_samples = 10000\n",
    "    M_permutation = 10000\n",
    "\n",
    "    ###### DE CHANGE ############\n",
    "    de = full.differential_expression_score(\n",
    "        idx1 = cell_idx1.values, \n",
    "        idx2 = cell_idx2.values, \n",
    "        mode='change', # vanilla is the default\n",
    "        n_samples=n_samples, \n",
    "        M_permutation=M_permutation,\n",
    "    )\n",
    "\n",
    "    de['gene_name']=de.index.map(genemaps['gene_name'])\n",
    "    de['gene_description']=de.index.map(genedesc['gene_description'])\n",
    "    de['gene_id']=de.index\n",
    "\n",
    "    de['gene_color'] = 'rgba(100, 100, 100, 0.25)'\n",
    "    de['gene_name']=de['gene_name'].fillna('noname')\n",
    "    de['gene_description']=de['gene_description'].fillna('No description available')\n",
    "\n",
    "    sanity_genes=['unc-122','sur-5', ' myo-2', 'rab-3', 'nsf-1', 'snb-1', 'cha-1', 'unc-17', 'unc-25', 'unc-47', 'eat-4']\n",
    "\n",
    "    de['gene_kind']='other genes'\n",
    "\n",
    "    # highlight markers for other neurons in blue\n",
    "    for gene in pd.Series(lorenzo_markers['gene_name'].values):\n",
    "        de.loc[de['gene_name']==gene, 'gene_color'] = 'rgba(0, 0,255, 1)'\n",
    "        de.loc[de['gene_name']==gene, 'gene_kind'] = 'known marker genes for other neurons'\n",
    "            \n",
    "    #highlight sanity genes in green\n",
    "    \n",
    "    for gene in sanity_genes:\n",
    "        de.loc[de['gene_name']==gene, 'gene_color'] = 'rgba(0, 255,0, 1)'\n",
    "        de.loc[de['gene_name']==gene, 'gene_kind'] = 'sanity genes for reference'\n",
    "    \n",
    "    #highlight validated markers for cell of interest in red\n",
    "    \n",
    "    try:\n",
    "        for gene in pd.Series(lorenzo_markers.loc[cell_type_1]['gene_name']):\n",
    "            print(gene)\n",
    "    #         print('MARKER GENES FOR ', cell_type_1)\n",
    "    #         print(pd.Series(lorenzo_markers.loc[cell_type_1]['gene_name']))\n",
    "            de.loc[de['gene_name']==gene, 'gene_color'] = 'rgba(255, 0,0, 1)'\n",
    "            de.loc[de['gene_name']==gene, 'gene_kind'] = 'candidate marker genes for this neuron'\n",
    "    except: pass\n",
    "    \n",
    "    de['gene_description_html'] = de['gene_description'].str.replace('\\. ', '.<br>')\n",
    "    fig = go.Figure(layout= {\n",
    "                                        \"title\": {\"text\": \n",
    "                                                   'Change DE between ' +\n",
    "                                                   str(ncells1) + ' ' + str(cell_type_1) + \"</b> and <b>\" + str(ncells2) + ' ' + str(cell_type_2)\n",
    "                                                  , 'x':0.5        \n",
    "                                                 }\n",
    "                                        , 'xaxis': {'title': {\"text\": \"log10 of scVI scale1\"}}\n",
    "                                        , 'yaxis': {'title': {\"text\": \"Bayes Factor\"}}\n",
    "    #                                             , 'width':1600\n",
    "    #                                             , 'height': 800\n",
    "                                })\n",
    "    for gene_kind in ['other genes',\n",
    "        'candidate marker genes for this neuron',\n",
    "        'known marker genes for other neurons',\n",
    "        'sanity genes for reference']:\n",
    "        sel = de[de['gene_kind']==gene_kind]    \n",
    "        \n",
    "        fig.add_trace(go.Scattergl(\n",
    "                                  x=np.log10(sel[\"scale1\"])\n",
    "                                , y=sel[\"bayes_factor\"]\n",
    "                                , name = gene_kind\n",
    "                                , mode='markers'\n",
    "                                , marker=dict(color=sel['gene_color'])\n",
    "                                , hoverinfo='text'\n",
    "                                , text=sel['gene_description_html']\n",
    "                                , customdata=sel.gene_id.values + '<br>Name: ' + sel.gene_name.values\n",
    "                                , hovertemplate='%{customdata} <br>' +\n",
    "                                                'Bayes Factor: %{y}<br>' +\n",
    "                                                'Log10 scale1: %{x} <br>' +\n",
    "                                                'Log10 scale2: ' + np.log10(sel[\"scale2\"]).astype(str) +\n",
    "                                                '<br> Ratio scale1/scale2: '  + np.round((sel[\"scale1\"]/sel[\"scale2\"]), 3).astype(str) +\n",
    "                                                '<br>' + sel[\"gene_kind\"].astype(str) + \n",
    "                                                '<extra>%{text}</extra>'\n",
    "                                )\n",
    "                                \n",
    "                       )\n",
    "\n",
    "\n",
    "    fig.update_layout(xaxis=dict(range=[-8,-1]))\n",
    "    fig.update_layout(showlegend=True, template='none')\n",
    "    fig.write_html('./'+ str(cell_type_1)+ '_DEchange.html')\n",
    "    \n",
    "    # save the DE results in csv\n",
    "    de.to_csv('./'+ str(cell_type_1)+ '_DEchange.csv')\n",
    "    dedfs[cell_type_1]=de\n",
    "    fig.show()\n",
    "\n",
    "# Use the lines below to save a static image instead of interactive plot    \n",
    "#     img_bytes = fig.to_image(format=\"png\", width=1000, height=800, scale=2)\n",
    "#     display(Image(img_bytes))\n",
    "#     print('woop')\n",
    "#     fig.write_image(\"markerplots5_aug20/\"+ str(cell_type_1)+'_DEchange.png')\n",
    "\n",
    "\n"
   ]
  },
  {
   "cell_type": "markdown",
   "metadata": {},
   "source": [
    "## Create a matrix of tissue x gene with expression frequency\n"
   ]
  },
  {
   "cell_type": "code",
   "execution_count": null,
   "metadata": {},
   "outputs": [],
   "source": [
    "## Create a matrix of tissue x gene with expression frequency\n",
    "\n",
    "tde = pd.DataFrame(columns=full.gene_dataset.gene_name)\n",
    "\n",
    "for cell_type in tqdm(adata.obs.cell_type.unique()):\n",
    "    res = full.scale_sampler(adata.obs.cell_type==cell_type, give_mean=True)\n",
    "    tde.loc[cell_type]= res['scale']\n",
    "tde.to_csv('./CaoTaylor_tissue_expression_levels.csv')\n",
    "tde"
   ]
  },
  {
   "cell_type": "code",
   "execution_count": null,
   "metadata": {},
   "outputs": [],
   "source": [
    "tde = pd.read_csv('./CaoTaylor_tissue_expression_levels.csv', index_col=0)\n",
    "tde"
   ]
  },
  {
   "cell_type": "markdown",
   "metadata": {},
   "source": [
    "## Create swarm plot of relative expression \n",
    "For each of the top genes with the highest bayes factor in the tissue of interest we plot their expression relative to all other 210 tissues. The goal is to identify genes with relatively high expression only on the target tissue. \n",
    "\n",
    "In the x axis we show the gene name, and the -log10 of the frequency. So if a label says `sri-49 | 3.0` that means that gene sri-39 is present at a frequency of 10^-3 = 0.001. That means that one in every 1000 transcripts seen in that cell type was of sri-49.\n"
   ]
  },
  {
   "cell_type": "code",
   "execution_count": null,
   "metadata": {},
   "outputs": [],
   "source": [
    "for cell_type in ['ASK', 'ASG']:\n",
    "\n",
    "    data = []\n",
    "    sel_genes = dedfs[cell_type][:50]['gene_name']\n",
    "    # sort display order by median log fold change\n",
    "    sel = dedfs[cell_type][:50].sort_values(by='lfc_median', ascending=False)\n",
    "    sel_genes=sel['gene_name']\n",
    "    mean_fold_change_order = pd.Series()\n",
    "    for gene in sel_genes:\n",
    "        if gene not in tde.columns: continue\n",
    "        expression=np.mean(((tde[gene]/tde[gene][cell_type]).drop([cell_type])))\n",
    "        mean_fold_change_order[gene]=expression\n",
    "        mean_fold_change_order=mean_fold_change_order.sort_values()\n",
    "        \n",
    "    for gene in sel_genes: #mean_fold_change_order.index:\n",
    "        if gene not in tde.columns: continue\n",
    "        color = 'rgb(66, 167, 244)'\n",
    "        if (lorenzo_markers.gene_name == gene).any(): color = 'rgb(0,0,255)'\n",
    "\n",
    "        if lorenzo_markers[lorenzo_markers.gene_name == gene].index==cell_type: color = 'rgb(255,0,0)'\n",
    "\n",
    "        trace = go.Box(\n",
    "         y=np.round(np.log2((tde[gene]/tde[gene][cell_type]).drop([cell_type])),3), boxpoints = 'all', pointpos = 0\n",
    "        , marker = dict(color = color)\n",
    "        , line = dict(color = 'rgba(0,0,0,0)')\n",
    "        , fillcolor = 'rgba(0,0,0,0)'\n",
    "        , opacity=1\n",
    "        , marker_size=4  \n",
    "        , name = gene  + ' | ' + str(np.round(-np.log10(tde[gene][cell_type]),2))\n",
    "        , hoverinfo='text'\n",
    "        , text=gene\n",
    "        , customdata=[gene]*(len(tde[gene])-1)\n",
    "        , hovertemplate='%{customdata} <br>' +\n",
    "                        '%{y}<br>' +'<extra></extra>'\n",
    "    #                     '<extra>%{text}</extra>'\n",
    "        )\n",
    "        data.append(trace)\n",
    "    title='Relative log2 expression of top '+str(len(sel_genes))+ ' ' + cell_type + ' specific genes vs all other tissues sorted by mean expression' \n",
    "    layout = go.Layout(title=title\n",
    "    #                    , width=750, height=500\n",
    "                      )\n",
    "    fig = go.Figure(data, layout)\n",
    "    fig.update_layout(showlegend=False, template='none')\n",
    "    fig.update_xaxes(tickangle=90, tickfont=dict( color='black', size=9))\n",
    "#     fig.write_html('./' + cell_type + '_top80_log2swarmplot.html')\n",
    "    fig.show()\n",
    "#     break"
   ]
  },
  {
   "cell_type": "code",
   "execution_count": null,
   "metadata": {},
   "outputs": [],
   "source": []
  }
 ],
 "metadata": {
  "accelerator": "GPU",
  "colab": {
   "include_colab_link": true,
   "machine_shape": "hm",
   "name": "scVI_DE_worm_v5.ipynb",
   "provenance": [],
   "toc_visible": true
  },
  "kernelspec": {
   "display_name": "Python 3",
   "language": "python",
   "name": "python3"
  },
  "language_info": {
   "codemirror_mode": {
    "name": "ipython",
    "version": 3
   },
   "file_extension": ".py",
   "mimetype": "text/x-python",
   "name": "python",
   "nbconvert_exporter": "python",
   "pygments_lexer": "ipython3",
   "version": "3.7.7"
  },
  "pycharm": {
   "stem_cell": {
    "cell_type": "raw",
    "metadata": {
     "collapsed": false
    },
    "source": []
   }
  },
  "toc": {
   "base_numbering": 1,
   "nav_menu": {},
   "number_sections": true,
   "sideBar": true,
   "skip_h1_title": false,
   "title_cell": "Table of Contents",
   "title_sidebar": "Contents",
   "toc_cell": false,
   "toc_position": {},
   "toc_section_display": true,
   "toc_window_display": false
  },
  "widgets": {
   "application/vnd.jupyter.widget-state+json": {
    "01fea2bb73a546b79106c51b538bfa1d": {
     "model_module": "@jupyter-widgets/base",
     "model_name": "LayoutModel",
     "state": {
      "_model_module": "@jupyter-widgets/base",
      "_model_module_version": "1.2.0",
      "_model_name": "LayoutModel",
      "_view_count": null,
      "_view_module": "@jupyter-widgets/base",
      "_view_module_version": "1.2.0",
      "_view_name": "LayoutView",
      "align_content": null,
      "align_items": null,
      "align_self": null,
      "border": null,
      "bottom": null,
      "display": null,
      "flex": null,
      "flex_flow": null,
      "grid_area": null,
      "grid_auto_columns": null,
      "grid_auto_flow": null,
      "grid_auto_rows": null,
      "grid_column": null,
      "grid_gap": null,
      "grid_row": null,
      "grid_template_areas": null,
      "grid_template_columns": null,
      "grid_template_rows": null,
      "height": null,
      "justify_content": null,
      "justify_items": null,
      "left": null,
      "margin": null,
      "max_height": null,
      "max_width": null,
      "min_height": null,
      "min_width": null,
      "object_fit": null,
      "object_position": null,
      "order": null,
      "overflow": null,
      "overflow_x": null,
      "overflow_y": null,
      "padding": null,
      "right": null,
      "top": null,
      "visibility": null,
      "width": null
     }
    },
    "02c9ce129de04212920a3edf53b87115": {
     "model_module": "@jupyter-widgets/controls",
     "model_name": "DescriptionStyleModel",
     "state": {
      "_model_module": "@jupyter-widgets/controls",
      "_model_module_version": "1.5.0",
      "_model_name": "DescriptionStyleModel",
      "_view_count": null,
      "_view_module": "@jupyter-widgets/base",
      "_view_module_version": "1.2.0",
      "_view_name": "StyleView",
      "description_width": ""
     }
    },
    "3d1d2e4ac5f641f393cf0011f164bdc7": {
     "model_module": "@jupyter-widgets/controls",
     "model_name": "ProgressStyleModel",
     "state": {
      "_model_module": "@jupyter-widgets/controls",
      "_model_module_version": "1.5.0",
      "_model_name": "ProgressStyleModel",
      "_view_count": null,
      "_view_module": "@jupyter-widgets/base",
      "_view_module_version": "1.2.0",
      "_view_name": "StyleView",
      "bar_color": null,
      "description_width": "initial"
     }
    },
    "4983aedb60e94bf988fa9b7a2283752f": {
     "model_module": "@jupyter-widgets/base",
     "model_name": "LayoutModel",
     "state": {
      "_model_module": "@jupyter-widgets/base",
      "_model_module_version": "1.2.0",
      "_model_name": "LayoutModel",
      "_view_count": null,
      "_view_module": "@jupyter-widgets/base",
      "_view_module_version": "1.2.0",
      "_view_name": "LayoutView",
      "align_content": null,
      "align_items": null,
      "align_self": null,
      "border": null,
      "bottom": null,
      "display": null,
      "flex": null,
      "flex_flow": null,
      "grid_area": null,
      "grid_auto_columns": null,
      "grid_auto_flow": null,
      "grid_auto_rows": null,
      "grid_column": null,
      "grid_gap": null,
      "grid_row": null,
      "grid_template_areas": null,
      "grid_template_columns": null,
      "grid_template_rows": null,
      "height": null,
      "justify_content": null,
      "justify_items": null,
      "left": null,
      "margin": null,
      "max_height": null,
      "max_width": null,
      "min_height": null,
      "min_width": null,
      "object_fit": null,
      "object_position": null,
      "order": null,
      "overflow": null,
      "overflow_x": null,
      "overflow_y": null,
      "padding": null,
      "right": null,
      "top": null,
      "visibility": null,
      "width": null
     }
    },
    "689cda990e1a4c9bbb43b1e0b0219391": {
     "model_module": "@jupyter-widgets/controls",
     "model_name": "ProgressStyleModel",
     "state": {
      "_model_module": "@jupyter-widgets/controls",
      "_model_module_version": "1.5.0",
      "_model_name": "ProgressStyleModel",
      "_view_count": null,
      "_view_module": "@jupyter-widgets/base",
      "_view_module_version": "1.2.0",
      "_view_name": "StyleView",
      "bar_color": null,
      "description_width": "initial"
     }
    },
    "7757b3270c08413db33047bdb04da9dd": {
     "model_module": "@jupyter-widgets/controls",
     "model_name": "DescriptionStyleModel",
     "state": {
      "_model_module": "@jupyter-widgets/controls",
      "_model_module_version": "1.5.0",
      "_model_name": "DescriptionStyleModel",
      "_view_count": null,
      "_view_module": "@jupyter-widgets/base",
      "_view_module_version": "1.2.0",
      "_view_name": "StyleView",
      "description_width": ""
     }
    },
    "7f566e6d493d4330a5e9f28a54717d4c": {
     "model_module": "@jupyter-widgets/controls",
     "model_name": "IntProgressModel",
     "state": {
      "_dom_classes": [],
      "_model_module": "@jupyter-widgets/controls",
      "_model_module_version": "1.5.0",
      "_model_name": "IntProgressModel",
      "_view_count": null,
      "_view_module": "@jupyter-widgets/controls",
      "_view_module_version": "1.5.0",
      "_view_name": "ProgressView",
      "bar_style": "success",
      "description": "100%",
      "description_tooltip": null,
      "layout": "IPY_MODEL_f031646e7bf24b9ba1bf1df98659db82",
      "max": 37,
      "min": 0,
      "orientation": "horizontal",
      "style": "IPY_MODEL_689cda990e1a4c9bbb43b1e0b0219391",
      "value": 37
     }
    },
    "88d98cb26d5146cd8f7c8f420cdd2310": {
     "model_module": "@jupyter-widgets/controls",
     "model_name": "HTMLModel",
     "state": {
      "_dom_classes": [],
      "_model_module": "@jupyter-widgets/controls",
      "_model_module_version": "1.5.0",
      "_model_name": "HTMLModel",
      "_view_count": null,
      "_view_module": "@jupyter-widgets/controls",
      "_view_module_version": "1.5.0",
      "_view_name": "HTMLView",
      "description": "",
      "description_tooltip": null,
      "layout": "IPY_MODEL_c294ddd7474843ceb0eeca6fec3a56ae",
      "placeholder": "​",
      "style": "IPY_MODEL_7757b3270c08413db33047bdb04da9dd",
      "value": " 37/37 [03:25&lt;00:00,  5.55s/it]"
     }
    },
    "99376197a512483abc17c0954095587f": {
     "model_module": "@jupyter-widgets/base",
     "model_name": "LayoutModel",
     "state": {
      "_model_module": "@jupyter-widgets/base",
      "_model_module_version": "1.2.0",
      "_model_name": "LayoutModel",
      "_view_count": null,
      "_view_module": "@jupyter-widgets/base",
      "_view_module_version": "1.2.0",
      "_view_name": "LayoutView",
      "align_content": null,
      "align_items": null,
      "align_self": null,
      "border": null,
      "bottom": null,
      "display": null,
      "flex": null,
      "flex_flow": null,
      "grid_area": null,
      "grid_auto_columns": null,
      "grid_auto_flow": null,
      "grid_auto_rows": null,
      "grid_column": null,
      "grid_gap": null,
      "grid_row": null,
      "grid_template_areas": null,
      "grid_template_columns": null,
      "grid_template_rows": null,
      "height": null,
      "justify_content": null,
      "justify_items": null,
      "left": null,
      "margin": null,
      "max_height": null,
      "max_width": null,
      "min_height": null,
      "min_width": null,
      "object_fit": null,
      "object_position": null,
      "order": null,
      "overflow": null,
      "overflow_x": null,
      "overflow_y": null,
      "padding": null,
      "right": null,
      "top": null,
      "visibility": null,
      "width": null
     }
    },
    "9ceb8c890ff043bd88c7f39e844ec0d7": {
     "model_module": "@jupyter-widgets/controls",
     "model_name": "HBoxModel",
     "state": {
      "_dom_classes": [],
      "_model_module": "@jupyter-widgets/controls",
      "_model_module_version": "1.5.0",
      "_model_name": "HBoxModel",
      "_view_count": null,
      "_view_module": "@jupyter-widgets/controls",
      "_view_module_version": "1.5.0",
      "_view_name": "HBoxView",
      "box_style": "",
      "children": [
       "IPY_MODEL_7f566e6d493d4330a5e9f28a54717d4c",
       "IPY_MODEL_de97da96d17b4933bfab54ea08c8e75c"
      ],
      "layout": "IPY_MODEL_99376197a512483abc17c0954095587f"
     }
    },
    "a1fdafad04ae46d3b1ae3f290f360391": {
     "model_module": "@jupyter-widgets/controls",
     "model_name": "HBoxModel",
     "state": {
      "_dom_classes": [],
      "_model_module": "@jupyter-widgets/controls",
      "_model_module_version": "1.5.0",
      "_model_name": "HBoxModel",
      "_view_count": null,
      "_view_module": "@jupyter-widgets/controls",
      "_view_module_version": "1.5.0",
      "_view_name": "HBoxView",
      "box_style": "",
      "children": [
       "IPY_MODEL_b9cf9e91803849ac8432f37e0aa4f834",
       "IPY_MODEL_88d98cb26d5146cd8f7c8f420cdd2310"
      ],
      "layout": "IPY_MODEL_bcd54fa768e04a5d8094931b116bccb5"
     }
    },
    "b9cf9e91803849ac8432f37e0aa4f834": {
     "model_module": "@jupyter-widgets/controls",
     "model_name": "IntProgressModel",
     "state": {
      "_dom_classes": [],
      "_model_module": "@jupyter-widgets/controls",
      "_model_module_version": "1.5.0",
      "_model_name": "IntProgressModel",
      "_view_count": null,
      "_view_module": "@jupyter-widgets/controls",
      "_view_module_version": "1.5.0",
      "_view_name": "ProgressView",
      "bar_style": "success",
      "description": "100%",
      "description_tooltip": null,
      "layout": "IPY_MODEL_01fea2bb73a546b79106c51b538bfa1d",
      "max": 37,
      "min": 0,
      "orientation": "horizontal",
      "style": "IPY_MODEL_3d1d2e4ac5f641f393cf0011f164bdc7",
      "value": 37
     }
    },
    "bcd54fa768e04a5d8094931b116bccb5": {
     "model_module": "@jupyter-widgets/base",
     "model_name": "LayoutModel",
     "state": {
      "_model_module": "@jupyter-widgets/base",
      "_model_module_version": "1.2.0",
      "_model_name": "LayoutModel",
      "_view_count": null,
      "_view_module": "@jupyter-widgets/base",
      "_view_module_version": "1.2.0",
      "_view_name": "LayoutView",
      "align_content": null,
      "align_items": null,
      "align_self": null,
      "border": null,
      "bottom": null,
      "display": null,
      "flex": null,
      "flex_flow": null,
      "grid_area": null,
      "grid_auto_columns": null,
      "grid_auto_flow": null,
      "grid_auto_rows": null,
      "grid_column": null,
      "grid_gap": null,
      "grid_row": null,
      "grid_template_areas": null,
      "grid_template_columns": null,
      "grid_template_rows": null,
      "height": null,
      "justify_content": null,
      "justify_items": null,
      "left": null,
      "margin": null,
      "max_height": null,
      "max_width": null,
      "min_height": null,
      "min_width": null,
      "object_fit": null,
      "object_position": null,
      "order": null,
      "overflow": null,
      "overflow_x": null,
      "overflow_y": null,
      "padding": null,
      "right": null,
      "top": null,
      "visibility": null,
      "width": null
     }
    },
    "c294ddd7474843ceb0eeca6fec3a56ae": {
     "model_module": "@jupyter-widgets/base",
     "model_name": "LayoutModel",
     "state": {
      "_model_module": "@jupyter-widgets/base",
      "_model_module_version": "1.2.0",
      "_model_name": "LayoutModel",
      "_view_count": null,
      "_view_module": "@jupyter-widgets/base",
      "_view_module_version": "1.2.0",
      "_view_name": "LayoutView",
      "align_content": null,
      "align_items": null,
      "align_self": null,
      "border": null,
      "bottom": null,
      "display": null,
      "flex": null,
      "flex_flow": null,
      "grid_area": null,
      "grid_auto_columns": null,
      "grid_auto_flow": null,
      "grid_auto_rows": null,
      "grid_column": null,
      "grid_gap": null,
      "grid_row": null,
      "grid_template_areas": null,
      "grid_template_columns": null,
      "grid_template_rows": null,
      "height": null,
      "justify_content": null,
      "justify_items": null,
      "left": null,
      "margin": null,
      "max_height": null,
      "max_width": null,
      "min_height": null,
      "min_width": null,
      "object_fit": null,
      "object_position": null,
      "order": null,
      "overflow": null,
      "overflow_x": null,
      "overflow_y": null,
      "padding": null,
      "right": null,
      "top": null,
      "visibility": null,
      "width": null
     }
    },
    "de97da96d17b4933bfab54ea08c8e75c": {
     "model_module": "@jupyter-widgets/controls",
     "model_name": "HTMLModel",
     "state": {
      "_dom_classes": [],
      "_model_module": "@jupyter-widgets/controls",
      "_model_module_version": "1.5.0",
      "_model_name": "HTMLModel",
      "_view_count": null,
      "_view_module": "@jupyter-widgets/controls",
      "_view_module_version": "1.5.0",
      "_view_name": "HTMLView",
      "description": "",
      "description_tooltip": null,
      "layout": "IPY_MODEL_4983aedb60e94bf988fa9b7a2283752f",
      "placeholder": "​",
      "style": "IPY_MODEL_02c9ce129de04212920a3edf53b87115",
      "value": " 37/37 [14:53&lt;00:00, 24.16s/it]"
     }
    },
    "f031646e7bf24b9ba1bf1df98659db82": {
     "model_module": "@jupyter-widgets/base",
     "model_name": "LayoutModel",
     "state": {
      "_model_module": "@jupyter-widgets/base",
      "_model_module_version": "1.2.0",
      "_model_name": "LayoutModel",
      "_view_count": null,
      "_view_module": "@jupyter-widgets/base",
      "_view_module_version": "1.2.0",
      "_view_name": "LayoutView",
      "align_content": null,
      "align_items": null,
      "align_self": null,
      "border": null,
      "bottom": null,
      "display": null,
      "flex": null,
      "flex_flow": null,
      "grid_area": null,
      "grid_auto_columns": null,
      "grid_auto_flow": null,
      "grid_auto_rows": null,
      "grid_column": null,
      "grid_gap": null,
      "grid_row": null,
      "grid_template_areas": null,
      "grid_template_columns": null,
      "grid_template_rows": null,
      "height": null,
      "justify_content": null,
      "justify_items": null,
      "left": null,
      "margin": null,
      "max_height": null,
      "max_width": null,
      "min_height": null,
      "min_width": null,
      "object_fit": null,
      "object_position": null,
      "order": null,
      "overflow": null,
      "overflow_x": null,
      "overflow_y": null,
      "padding": null,
      "right": null,
      "top": null,
      "visibility": null,
      "width": null
     }
    }
   }
  }
 },
 "nbformat": 4,
 "nbformat_minor": 4
}
